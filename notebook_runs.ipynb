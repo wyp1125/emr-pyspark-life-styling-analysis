{
 "cells": [
  {
   "cell_type": "code",
   "execution_count": 1,
   "id": "47401f10-a43e-4906-bed7-f7c8b9540026",
   "metadata": {
    "execution": {
     "iopub.execute_input": "2022-05-21T13:15:19.040385Z",
     "iopub.status.busy": "2022-05-21T13:15:19.040144Z",
     "iopub.status.idle": "2022-05-21T13:19:13.650645Z",
     "shell.execute_reply": "2022-05-21T13:19:13.649900Z",
     "shell.execute_reply.started": "2022-05-21T13:15:19.040357Z"
    },
    "tags": []
   },
   "outputs": [
    {
     "data": {
      "application/vnd.jupyter.widget-view+json": {
       "model_id": "bdafdac7bfd44a5189d9dd98a333064d",
       "version_major": 2,
       "version_minor": 0
      },
      "text/plain": [
       "VBox()"
      ]
     },
     "metadata": {},
     "output_type": "display_data"
    },
    {
     "name": "stdout",
     "output_type": "stream",
     "text": [
      "Starting Spark application\n"
     ]
    },
    {
     "data": {
      "text/html": [
       "<table>\n",
       "<tr><th>ID</th><th>YARN Application ID</th><th>Kind</th><th>State</th><th>Spark UI</th><th>Driver log</th><th>User</th><th>Current session?</th></tr><tr><td>6</td><td>application_1653011070109_0007</td><td>pyspark</td><td>idle</td><td><a target=\"_blank\" href=\"http://ip-172-31-12-202.ec2.internal:20888/proxy/application_1653011070109_0007/\" class=\"emr-proxy-link\" emr-resource=\"j-3OBPWMAITNQDR\n",
       "\" application-id=\"application_1653011070109_0007\">Link</a></td><td><a target=\"_blank\" href=\"http://ip-172-31-2-109.ec2.internal:8042/node/containerlogs/container_1653011070109_0007_01_000001/livy\" >Link</a></td><td>None</td><td>✔</td></tr></table>"
      ],
      "text/plain": [
       "<IPython.core.display.HTML object>"
      ]
     },
     "metadata": {},
     "output_type": "display_data"
    },
    {
     "data": {
      "application/vnd.jupyter.widget-view+json": {
       "model_id": "",
       "version_major": 2,
       "version_minor": 0
      },
      "text/plain": [
       "FloatProgress(value=0.0, bar_style='info', description='Progress:', layout=Layout(height='25px', width='50%'),…"
      ]
     },
     "metadata": {},
     "output_type": "display_data"
    },
    {
     "name": "stdout",
     "output_type": "stream",
     "text": [
      "SparkSession available as 'spark'.\n"
     ]
    },
    {
     "data": {
      "application/vnd.jupyter.widget-view+json": {
       "model_id": "",
       "version_major": 2,
       "version_minor": 0
      },
      "text/plain": [
       "FloatProgress(value=0.0, bar_style='info', description='Progress:', layout=Layout(height='25px', width='50%'),…"
      ]
     },
     "metadata": {},
     "output_type": "display_data"
    }
   ],
   "source": [
    "from pyspark.sql import SparkSession\n",
    "spark = SparkSession.builder.getOrCreate()\n",
    "c_file = \"s3://bdx-emr/ukb49672.csv\"\n",
    "cdata = spark.read.csv(c_file,header='true',inferSchema='true')\n",
    "v_file = \"s3://bdx-emr/lifestyling.csv\"\n",
    "vdata = spark.read.csv(v_file,header='true')"
   ]
  },
  {
   "cell_type": "code",
   "execution_count": 2,
   "id": "c026d996-452a-4f8f-851e-c41fc5764b74",
   "metadata": {
    "execution": {
     "iopub.execute_input": "2022-05-21T13:30:43.264538Z",
     "iopub.status.busy": "2022-05-21T13:30:43.264214Z",
     "iopub.status.idle": "2022-05-21T13:31:48.726031Z",
     "shell.execute_reply": "2022-05-21T13:31:48.725401Z",
     "shell.execute_reply.started": "2022-05-21T13:30:43.264503Z"
    }
   },
   "outputs": [
    {
     "data": {
      "application/vnd.jupyter.widget-view+json": {
       "model_id": "b4df957f4f4e4b0ca88c0e8cd219064a",
       "version_major": 2,
       "version_minor": 0
      },
      "text/plain": [
       "VBox()"
      ]
     },
     "metadata": {},
     "output_type": "display_data"
    },
    {
     "data": {
      "application/vnd.jupyter.widget-view+json": {
       "model_id": "",
       "version_major": 2,
       "version_minor": 0
      },
      "text/plain": [
       "FloatProgress(value=0.0, bar_style='info', description='Progress:', layout=Layout(height='25px', width='50%'),…"
      ]
     },
     "metadata": {},
     "output_type": "display_data"
    },
    {
     "name": "stdout",
     "output_type": "stream",
     "text": [
      "(502415, 14939)\n",
      "(461, 3)"
     ]
    }
   ],
   "source": [
    "print((cdata.count(), len(cdata.columns)))\n",
    "print((vdata.count(), len(vdata.columns)))"
   ]
  },
  {
   "cell_type": "code",
   "execution_count": 3,
   "id": "c7583be4-8970-4b37-8ac8-2bea342a0eb2",
   "metadata": {
    "execution": {
     "iopub.execute_input": "2022-05-21T14:00:40.428331Z",
     "iopub.status.busy": "2022-05-21T14:00:40.428044Z",
     "iopub.status.idle": "2022-05-21T14:00:53.737781Z",
     "shell.execute_reply": "2022-05-21T14:00:53.737012Z",
     "shell.execute_reply.started": "2022-05-21T14:00:40.428304Z"
    },
    "tags": []
   },
   "outputs": [
    {
     "data": {
      "application/vnd.jupyter.widget-view+json": {
       "model_id": "8f4c02825bd54221ae1393496d503665",
       "version_major": 2,
       "version_minor": 0
      },
      "text/plain": [
       "VBox()"
      ]
     },
     "metadata": {},
     "output_type": "display_data"
    },
    {
     "data": {
      "application/vnd.jupyter.widget-view+json": {
       "model_id": "",
       "version_major": 2,
       "version_minor": 0
      },
      "text/plain": [
       "FloatProgress(value=0.0, bar_style='info', description='Progress:', layout=Layout(height='25px', width='50%'),…"
      ]
     },
     "metadata": {},
     "output_type": "display_data"
    }
   ],
   "source": [
    "import re\n",
    "allfields=cdata.columns\n",
    "rnm_fields = [re.sub(r'[-.]', 'x', field) for field in allfields]\n",
    "#print(rnm_fields)\n",
    "ncdata=cdata.toDF(*rnm_fields)\n",
    "allfields=ncdata.columns\n",
    "lifefields=vdata.select('Column1')\n",
    "lifefields_ls=lifefields.rdd.flatMap(lambda x: x).collect()\n",
    "col2type=dict(ncdata.dtypes)\n",
    "lifefields_set=set(lifefields_ls)"
   ]
  },
  {
   "cell_type": "code",
   "execution_count": 4,
   "id": "fbc779e6-9bce-4913-9a7a-270903f66dd5",
   "metadata": {
    "execution": {
     "iopub.execute_input": "2022-05-21T14:05:38.823312Z",
     "iopub.status.busy": "2022-05-21T14:05:38.823082Z",
     "iopub.status.idle": "2022-05-21T14:05:42.104065Z",
     "shell.execute_reply": "2022-05-21T14:05:42.103345Z",
     "shell.execute_reply.started": "2022-05-21T14:05:38.823287Z"
    },
    "tags": []
   },
   "outputs": [
    {
     "data": {
      "application/vnd.jupyter.widget-view+json": {
       "model_id": "4555f7d36fde4d65a15245f4e9549153",
       "version_major": 2,
       "version_minor": 0
      },
      "text/plain": [
       "VBox()"
      ]
     },
     "metadata": {},
     "output_type": "display_data"
    },
    {
     "data": {
      "application/vnd.jupyter.widget-view+json": {
       "model_id": "",
       "version_major": 2,
       "version_minor": 0
      },
      "text/plain": [
       "FloatProgress(value=0.0, bar_style='info', description='Progress:', layout=Layout(height='25px', width='50%'),…"
      ]
     },
     "metadata": {},
     "output_type": "display_data"
    },
    {
     "name": "stdout",
     "output_type": "stream",
     "text": [
      "461"
     ]
    }
   ],
   "source": [
    "n=len(allfields)\n",
    "sel_fields=[\"eid\",\"31x0x0\",\"21000x0x0\",\"21022x0x0\",\"21001x0x0\"]\n",
    "for i in range(n):\n",
    "    if allfields[i].split(\"x\")[0] in lifefields_set:\n",
    "        if col2type[allfields[i]] in [\"int\",\"double\"]:\n",
    "            sel_fields.append(allfields[i])\n",
    "print(len(lifefields_set))\n",
    "life_data=ncdata.select(sel_fields)"
   ]
  },
  {
   "cell_type": "code",
   "execution_count": 5,
   "id": "1dde1295-7426-42c4-93d9-ea00932dd7f9",
   "metadata": {
    "execution": {
     "iopub.execute_input": "2022-05-21T14:06:25.194697Z",
     "iopub.status.busy": "2022-05-21T14:06:25.194452Z",
     "iopub.status.idle": "2022-05-21T14:12:05.365295Z",
     "shell.execute_reply": "2022-05-21T14:12:05.364715Z",
     "shell.execute_reply.started": "2022-05-21T14:06:25.194665Z"
    },
    "tags": []
   },
   "outputs": [
    {
     "data": {
      "application/vnd.jupyter.widget-view+json": {
       "model_id": "34bbacee46324dab9d2cebd0c5025b61",
       "version_major": 2,
       "version_minor": 0
      },
      "text/plain": [
       "VBox()"
      ]
     },
     "metadata": {},
     "output_type": "display_data"
    },
    {
     "data": {
      "application/vnd.jupyter.widget-view+json": {
       "model_id": "",
       "version_major": 2,
       "version_minor": 0
      },
      "text/plain": [
       "FloatProgress(value=0.0, bar_style='info', description='Progress:', layout=Layout(height='25px', width='50%'),…"
      ]
     },
     "metadata": {},
     "output_type": "display_data"
    }
   ],
   "source": [
    "import pyspark.sql.functions as F\n",
    "null_counts = life_data.select([F.count(F.when(F.col(c).isNull(), c)).alias(c) for c in life_data.columns]).collect()[0].asDict()\n",
    "m=life_data.count()"
   ]
  },
  {
   "cell_type": "code",
   "execution_count": 6,
   "id": "cf9751e0-95a7-4d4b-952b-8aae6a140255",
   "metadata": {
    "execution": {
     "iopub.execute_input": "2022-05-21T14:16:03.068810Z",
     "iopub.status.busy": "2022-05-21T14:16:03.068521Z",
     "iopub.status.idle": "2022-05-21T14:16:03.839080Z",
     "shell.execute_reply": "2022-05-21T14:16:03.838462Z",
     "shell.execute_reply.started": "2022-05-21T14:16:03.068783Z"
    },
    "tags": []
   },
   "outputs": [
    {
     "data": {
      "application/vnd.jupyter.widget-view+json": {
       "model_id": "dbdf368e8baa44bd9c33d4ecd5b159c0",
       "version_major": 2,
       "version_minor": 0
      },
      "text/plain": [
       "VBox()"
      ]
     },
     "metadata": {},
     "output_type": "display_data"
    },
    {
     "data": {
      "application/vnd.jupyter.widget-view+json": {
       "model_id": "",
       "version_major": 2,
       "version_minor": 0
      },
      "text/plain": [
       "FloatProgress(value=0.0, bar_style='info', description='Progress:', layout=Layout(height='25px', width='50%'),…"
      ]
     },
     "metadata": {},
     "output_type": "display_data"
    },
    {
     "name": "stdout",
     "output_type": "stream",
     "text": [
      "Number of total variables:2389\n",
      "Number of removed variables:2335"
     ]
    }
   ],
   "source": [
    "cut_ratio=0.1\n",
    "rm_v=0\n",
    "for key in null_counts:\n",
    "    if null_counts[key]>cut_ratio*m:\n",
    "        rm_v+=1\n",
    "n_v=len(life_data.columns)\n",
    "print(\"Number of total variables:\"+str(n_v))\n",
    "print(\"Number of removed variables:\"+str(rm_v))\n",
    "to_drop = [k for k, v in null_counts.items() if v > cut_ratio*m]\n",
    "life_data_1 = life_data.drop(*to_drop)"
   ]
  },
  {
   "cell_type": "code",
   "execution_count": 7,
   "id": "c8889f34-652c-4a90-8f13-f5b993180e92",
   "metadata": {
    "execution": {
     "iopub.execute_input": "2022-05-21T14:16:08.964127Z",
     "iopub.status.busy": "2022-05-21T14:16:08.963895Z",
     "iopub.status.idle": "2022-05-21T14:17:46.513603Z",
     "shell.execute_reply": "2022-05-21T14:17:46.512922Z",
     "shell.execute_reply.started": "2022-05-21T14:16:08.964102Z"
    },
    "tags": []
   },
   "outputs": [
    {
     "data": {
      "application/vnd.jupyter.widget-view+json": {
       "model_id": "b6b93bbb1130455582410ca9aa5758c6",
       "version_major": 2,
       "version_minor": 0
      },
      "text/plain": [
       "VBox()"
      ]
     },
     "metadata": {},
     "output_type": "display_data"
    },
    {
     "data": {
      "application/vnd.jupyter.widget-view+json": {
       "model_id": "",
       "version_major": 2,
       "version_minor": 0
      },
      "text/plain": [
       "FloatProgress(value=0.0, bar_style='info', description='Progress:', layout=Layout(height='25px', width='50%'),…"
      ]
     },
     "metadata": {},
     "output_type": "display_data"
    },
    {
     "name": "stdout",
     "output_type": "stream",
     "text": [
      "384100"
     ]
    }
   ],
   "source": [
    "life_data_2=life_data_1.na.drop(\"any\")\n",
    "m_1=life_data_2.count()\n",
    "print(m_1)"
   ]
  },
  {
   "cell_type": "code",
   "execution_count": 8,
   "id": "23abe4ba-71c5-4c6d-a66d-833ac88a1e6a",
   "metadata": {
    "execution": {
     "iopub.execute_input": "2022-05-21T14:22:08.445322Z",
     "iopub.status.busy": "2022-05-21T14:22:08.445042Z",
     "iopub.status.idle": "2022-05-21T14:22:09.214200Z",
     "shell.execute_reply": "2022-05-21T14:22:09.213616Z",
     "shell.execute_reply.started": "2022-05-21T14:22:08.445287Z"
    },
    "tags": []
   },
   "outputs": [
    {
     "data": {
      "application/vnd.jupyter.widget-view+json": {
       "model_id": "4b4811802a3e45dfbb9c80fedd53543c",
       "version_major": 2,
       "version_minor": 0
      },
      "text/plain": [
       "VBox()"
      ]
     },
     "metadata": {},
     "output_type": "display_data"
    },
    {
     "data": {
      "application/vnd.jupyter.widget-view+json": {
       "model_id": "",
       "version_major": 2,
       "version_minor": 0
      },
      "text/plain": [
       "FloatProgress(value=0.0, bar_style='info', description='Progress:', layout=Layout(height='25px', width='50%'),…"
      ]
     },
     "metadata": {},
     "output_type": "display_data"
    }
   ],
   "source": [
    "from pyspark.ml.feature import VectorAssembler, StandardScaler, PCA\n",
    "assembler = VectorAssembler(inputCols = life_data_2.columns[5:], outputCol = 'features')\n",
    "life_data_3 = assembler.transform(life_data_2).select(['eid','31x0x0','21000x0x0','21022x0x0','21001x0x0','features'])"
   ]
  },
  {
   "cell_type": "code",
   "execution_count": 9,
   "id": "83275065-b1df-4005-b712-3a491450bc43",
   "metadata": {
    "execution": {
     "iopub.execute_input": "2022-05-21T14:35:55.164865Z",
     "iopub.status.busy": "2022-05-21T14:35:55.164423Z",
     "iopub.status.idle": "2022-05-21T14:36:22.531047Z",
     "shell.execute_reply": "2022-05-21T14:36:22.530426Z",
     "shell.execute_reply.started": "2022-05-21T14:35:55.164820Z"
    },
    "tags": []
   },
   "outputs": [
    {
     "data": {
      "application/vnd.jupyter.widget-view+json": {
       "model_id": "7d15e6f39eae40d9a80bf53110422eb4",
       "version_major": 2,
       "version_minor": 0
      },
      "text/plain": [
       "VBox()"
      ]
     },
     "metadata": {},
     "output_type": "display_data"
    },
    {
     "data": {
      "application/vnd.jupyter.widget-view+json": {
       "model_id": "",
       "version_major": 2,
       "version_minor": 0
      },
      "text/plain": [
       "FloatProgress(value=0.0, bar_style='info', description='Progress:', layout=Layout(height='25px', width='50%'),…"
      ]
     },
     "metadata": {},
     "output_type": "display_data"
    },
    {
     "name": "stdout",
     "output_type": "stream",
     "text": [
      "+-------+------+---------+---------+---------+--------------------+\n",
      "|    eid|31x0x0|21000x0x0|21022x0x0|21001x0x0|            features|\n",
      "+-------+------+---------+---------+---------+--------------------+\n",
      "|1000015|     0|     1001|       64|  20.9339|[3.0,15.0,0.0,0.0...|\n",
      "|1000027|     0|     1001|       60|  25.4222|[4.0,-1.0,2.0,1.0...|\n",
      "+-------+------+---------+---------+---------+--------------------+\n",
      "only showing top 2 rows"
     ]
    }
   ],
   "source": [
    "life_data_3.show(2)"
   ]
  },
  {
   "cell_type": "code",
   "execution_count": 10,
   "id": "85761859-c563-4b65-9533-02d7ef06a621",
   "metadata": {
    "execution": {
     "iopub.execute_input": "2022-05-21T14:39:44.699614Z",
     "iopub.status.busy": "2022-05-21T14:39:44.699387Z",
     "iopub.status.idle": "2022-05-21T14:54:02.016593Z",
     "shell.execute_reply": "2022-05-21T14:54:02.015971Z",
     "shell.execute_reply.started": "2022-05-21T14:39:44.699590Z"
    },
    "tags": []
   },
   "outputs": [
    {
     "data": {
      "application/vnd.jupyter.widget-view+json": {
       "model_id": "065d63f4dee743ec8f3b23dca95cfd08",
       "version_major": 2,
       "version_minor": 0
      },
      "text/plain": [
       "VBox()"
      ]
     },
     "metadata": {},
     "output_type": "display_data"
    },
    {
     "data": {
      "application/vnd.jupyter.widget-view+json": {
       "model_id": "",
       "version_major": 2,
       "version_minor": 0
      },
      "text/plain": [
       "FloatProgress(value=0.0, bar_style='info', description='Progress:', layout=Layout(height='25px', width='50%'),…"
      ]
     },
     "metadata": {},
     "output_type": "display_data"
    }
   ],
   "source": [
    "scaler = StandardScaler(\n",
    "    inputCol = 'features', \n",
    "    outputCol = 'scaledFeatures',\n",
    "    withMean = True,\n",
    "    withStd = True\n",
    ").fit(life_data_3)"
   ]
  },
  {
   "cell_type": "code",
   "execution_count": 11,
   "id": "c50ed058-13b0-43b4-a82d-6b9934632163",
   "metadata": {
    "execution": {
     "iopub.execute_input": "2022-05-21T15:11:01.729001Z",
     "iopub.status.busy": "2022-05-21T15:11:01.728760Z",
     "iopub.status.idle": "2022-05-21T15:11:31.063003Z",
     "shell.execute_reply": "2022-05-21T15:11:31.062428Z",
     "shell.execute_reply.started": "2022-05-21T15:11:01.728976Z"
    },
    "tags": []
   },
   "outputs": [
    {
     "data": {
      "application/vnd.jupyter.widget-view+json": {
       "model_id": "9b6a923e24aa42cba3d5c5265378ee88",
       "version_major": 2,
       "version_minor": 0
      },
      "text/plain": [
       "VBox()"
      ]
     },
     "metadata": {},
     "output_type": "display_data"
    },
    {
     "data": {
      "application/vnd.jupyter.widget-view+json": {
       "model_id": "",
       "version_major": 2,
       "version_minor": 0
      },
      "text/plain": [
       "FloatProgress(value=0.0, bar_style='info', description='Progress:', layout=Layout(height='25px', width='50%'),…"
      ]
     },
     "metadata": {},
     "output_type": "display_data"
    },
    {
     "name": "stdout",
     "output_type": "stream",
     "text": [
      "+-------+------+---------+---------+---------+--------------------+--------------------+\n",
      "|    eid|31x0x0|21000x0x0|21022x0x0|21001x0x0|            features|      scaledFeatures|\n",
      "+-------+------+---------+---------+---------+--------------------+--------------------+\n",
      "|1000015|     0|     1001|       64|  20.9339|[3.0,15.0,0.0,0.0...|[-1.3996748400160...|\n",
      "|1000027|     0|     1001|       60|  25.4222|[4.0,-1.0,2.0,1.0...|[-0.8378360547386...|\n",
      "+-------+------+---------+---------+---------+--------------------+--------------------+\n",
      "only showing top 2 rows"
     ]
    }
   ],
   "source": [
    "life_data_4 = scaler.transform(life_data_3)\n",
    "life_data_4.show(2)"
   ]
  },
  {
   "cell_type": "code",
   "execution_count": 12,
   "id": "91eb6817-2ff3-4f7f-8b6f-817344b5c526",
   "metadata": {
    "execution": {
     "iopub.execute_input": "2022-05-21T15:18:46.863572Z",
     "iopub.status.busy": "2022-05-21T15:18:46.863340Z",
     "iopub.status.idle": "2022-05-21T15:46:12.056559Z",
     "shell.execute_reply": "2022-05-21T15:46:12.055751Z",
     "shell.execute_reply.started": "2022-05-21T15:18:46.863547Z"
    },
    "tags": []
   },
   "outputs": [
    {
     "data": {
      "application/vnd.jupyter.widget-view+json": {
       "model_id": "2c2e1d90776445f5939c956573cb6ef9",
       "version_major": 2,
       "version_minor": 0
      },
      "text/plain": [
       "VBox()"
      ]
     },
     "metadata": {},
     "output_type": "display_data"
    },
    {
     "data": {
      "application/vnd.jupyter.widget-view+json": {
       "model_id": "",
       "version_major": 2,
       "version_minor": 0
      },
      "text/plain": [
       "FloatProgress(value=0.0, bar_style='info', description='Progress:', layout=Layout(height='25px', width='50%'),…"
      ]
     },
     "metadata": {},
     "output_type": "display_data"
    }
   ],
   "source": [
    "n_components = 3\n",
    "pca = PCA(\n",
    "    k = n_components, \n",
    "    inputCol = 'scaledFeatures', \n",
    "    outputCol = 'pcaFeatures'\n",
    ").fit(life_data_4)"
   ]
  },
  {
   "cell_type": "code",
   "execution_count": 13,
   "id": "fba7adde-9fe9-4829-bd19-b39dfb63a4f4",
   "metadata": {
    "execution": {
     "iopub.execute_input": "2022-05-21T15:47:34.797363Z",
     "iopub.status.busy": "2022-05-21T15:47:34.797135Z",
     "iopub.status.idle": "2022-05-21T15:47:35.056867Z",
     "shell.execute_reply": "2022-05-21T15:47:35.056110Z",
     "shell.execute_reply.started": "2022-05-21T15:47:34.797339Z"
    },
    "tags": []
   },
   "outputs": [
    {
     "data": {
      "application/vnd.jupyter.widget-view+json": {
       "model_id": "558699bc77494fe5ac0dcb27a40ef834",
       "version_major": 2,
       "version_minor": 0
      },
      "text/plain": [
       "VBox()"
      ]
     },
     "metadata": {},
     "output_type": "display_data"
    },
    {
     "data": {
      "application/vnd.jupyter.widget-view+json": {
       "model_id": "",
       "version_major": 2,
       "version_minor": 0
      },
      "text/plain": [
       "FloatProgress(value=0.0, bar_style='info', description='Progress:', layout=Layout(height='25px', width='50%'),…"
      ]
     },
     "metadata": {},
     "output_type": "display_data"
    },
    {
     "name": "stdout",
     "output_type": "stream",
     "text": [
      "Explained Variance Ratio [0.06018083 0.05220873 0.04698737]"
     ]
    }
   ],
   "source": [
    "life_data_5 = pca.transform(life_data_4)\n",
    "print('Explained Variance Ratio', pca.explainedVariance.toArray())"
   ]
  },
  {
   "cell_type": "code",
   "execution_count": 14,
   "id": "baa3a959-d118-4815-b7aa-75ea49ce09b6",
   "metadata": {
    "execution": {
     "iopub.execute_input": "2022-05-21T15:47:39.253316Z",
     "iopub.status.busy": "2022-05-21T15:47:39.253085Z",
     "iopub.status.idle": "2022-05-21T15:48:08.595164Z",
     "shell.execute_reply": "2022-05-21T15:48:08.594435Z",
     "shell.execute_reply.started": "2022-05-21T15:47:39.253292Z"
    },
    "tags": []
   },
   "outputs": [
    {
     "data": {
      "application/vnd.jupyter.widget-view+json": {
       "model_id": "da2dc3420c2a464885392e4d647fba4d",
       "version_major": 2,
       "version_minor": 0
      },
      "text/plain": [
       "VBox()"
      ]
     },
     "metadata": {},
     "output_type": "display_data"
    },
    {
     "data": {
      "application/vnd.jupyter.widget-view+json": {
       "model_id": "",
       "version_major": 2,
       "version_minor": 0
      },
      "text/plain": [
       "FloatProgress(value=0.0, bar_style='info', description='Progress:', layout=Layout(height='25px', width='50%'),…"
      ]
     },
     "metadata": {},
     "output_type": "display_data"
    },
    {
     "name": "stdout",
     "output_type": "stream",
     "text": [
      "+-------+------+---------+---------+---------+--------------------+--------------------+--------------------+\n",
      "|    eid|31x0x0|21000x0x0|21022x0x0|21001x0x0|            features|      scaledFeatures|         pcaFeatures|\n",
      "+-------+------+---------+---------+---------+--------------------+--------------------+--------------------+\n",
      "|1000015|     0|     1001|       64|  20.9339|[3.0,15.0,0.0,0.0...|[-1.3996748400160...|[1.34067844331761...|\n",
      "|1000027|     0|     1001|       60|  25.4222|[4.0,-1.0,2.0,1.0...|[-0.8378360547386...|[-1.4234630630256...|\n",
      "+-------+------+---------+---------+---------+--------------------+--------------------+--------------------+\n",
      "only showing top 2 rows"
     ]
    }
   ],
   "source": [
    "life_data_5.show(2)"
   ]
  },
  {
   "cell_type": "code",
   "execution_count": 15,
   "id": "cfe72820-2d50-45fa-8a26-2d93573d5d11",
   "metadata": {
    "execution": {
     "iopub.execute_input": "2022-05-21T15:48:54.785466Z",
     "iopub.status.busy": "2022-05-21T15:48:54.785223Z",
     "iopub.status.idle": "2022-05-21T16:30:09.935187Z",
     "shell.execute_reply": "2022-05-21T16:30:09.934594Z",
     "shell.execute_reply.started": "2022-05-21T15:48:54.785441Z"
    },
    "tags": []
   },
   "outputs": [
    {
     "data": {
      "application/vnd.jupyter.widget-view+json": {
       "model_id": "4e6a9d07af8743079f0fc3d07d50a75f",
       "version_major": 2,
       "version_minor": 0
      },
      "text/plain": [
       "VBox()"
      ]
     },
     "metadata": {},
     "output_type": "display_data"
    },
    {
     "data": {
      "application/vnd.jupyter.widget-view+json": {
       "model_id": "",
       "version_major": 2,
       "version_minor": 0
      },
      "text/plain": [
       "FloatProgress(value=0.0, bar_style='info', description='Progress:', layout=Layout(height='25px', width='50%'),…"
      ]
     },
     "metadata": {},
     "output_type": "display_data"
    }
   ],
   "source": [
    "from pyspark.ml.regression import LinearRegression\n",
    "lr=LinearRegression(featuresCol='pcaFeatures', labelCol='21001x0x0',regParam=0.3, elasticNetParam=0.8)\n",
    "lr_model = lr.fit(life_data_5)"
   ]
  },
  {
   "cell_type": "code",
   "execution_count": 17,
   "id": "3766ee1e-84e0-47a7-9cbd-1b7c195eafc4",
   "metadata": {
    "execution": {
     "iopub.execute_input": "2022-05-21T16:32:01.668958Z",
     "iopub.status.busy": "2022-05-21T16:32:01.668715Z",
     "iopub.status.idle": "2022-05-21T16:32:01.723976Z",
     "shell.execute_reply": "2022-05-21T16:32:01.723331Z",
     "shell.execute_reply.started": "2022-05-21T16:32:01.668932Z"
    },
    "tags": []
   },
   "outputs": [
    {
     "data": {
      "application/vnd.jupyter.widget-view+json": {
       "model_id": "ea3f50adcb784ef59e436060bbbf321f",
       "version_major": 2,
       "version_minor": 0
      },
      "text/plain": [
       "VBox()"
      ]
     },
     "metadata": {},
     "output_type": "display_data"
    },
    {
     "data": {
      "application/vnd.jupyter.widget-view+json": {
       "model_id": "",
       "version_major": 2,
       "version_minor": 0
      },
      "text/plain": [
       "FloatProgress(value=0.0, bar_style='info', description='Progress:', layout=Layout(height='25px', width='50%'),…"
      ]
     },
     "metadata": {},
     "output_type": "display_data"
    },
    {
     "name": "stdout",
     "output_type": "stream",
     "text": [
      "Coefficients: [0.2337845565472844,-0.31749966756049514,0.0]\n",
      "Intercept: 27.346174489976566\n",
      "MSE:  20.56061500086945\n",
      "MAE:  3.4489244397392107\n",
      "R-squared:  0.03984014677669134"
     ]
    }
   ],
   "source": [
    "print(\"Coefficients: \" + str(lr_model.coefficients))\n",
    "print(\"Intercept: \" + str(lr_model.intercept))\n",
    "print(\"MSE: \", lr_model.summary.meanSquaredError)\n",
    "print(\"MAE: \", lr_model.summary.meanAbsoluteError)\n",
    "print(\"R-squared: \", lr_model.summary.r2)\n",
    "#print(\"P-value: \", lr_model.summary.pValues)"
   ]
  },
  {
   "cell_type": "code",
   "execution_count": null,
   "id": "5f03e90c-616b-42f3-bc1c-c4e15ff52cfe",
   "metadata": {},
   "outputs": [],
   "source": []
  }
 ],
 "metadata": {
  "kernelspec": {
   "display_name": "PySpark",
   "language": "python",
   "name": "pysparkkernel"
  },
  "language_info": {
   "codemirror_mode": {
    "name": "python",
    "version": 3
   },
   "file_extension": ".py",
   "mimetype": "text/x-python",
   "name": "pyspark",
   "pygments_lexer": "python3"
  }
 },
 "nbformat": 4,
 "nbformat_minor": 5
}
